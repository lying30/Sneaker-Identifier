{
 "cells": [
  {
   "cell_type": "code",
   "execution_count": 44,
   "metadata": {},
   "outputs": [],
   "source": [
    "from PIL import Image\n",
    "import cv2\n",
    "import numpy as np\n",
    "import os\n",
    "from random import shuffle\n",
    "from tqdm import tqdm\n",
    "import matplotlib.pyplot as plt\n",
    "\n",
    "TEST_DIR = '/Users/Lucas_Ying/Desktop/ATCS/Final Project_SneakerIdentifier/Sneaker-Identifier/data/TestingData'\n",
    "TRAIN_DIR = '/Users/Lucas_Ying/Desktop/ATCS/Final Project_SneakerIdentifier/Sneaker-Identifier/data/TrainingData'\n",
    "\n",
    "IMG_SIZE = 120\n",
    "# learning rate\n",
    "LR = 1e-3\n",
    "\n",
    "MODEL_NAME = 'OFFWHITEvsYEEZY--{}-{}.model'.format(LR, '2conv-basic')"
   ]
  },
  {
   "cell_type": "code",
   "execution_count": 45,
   "metadata": {},
   "outputs": [],
   "source": [
    "\n",
    "def label_img(img):\n",
    "    # Images are formatted as: ADIDAS_1, NIKE_3 ...\n",
    "    word_label = img.split('_')[0]\n",
    "    if word_label == 'OFFWHITE': return [1,0] #one hot encoding\n",
    "    elif word_label == 'YEEZY': return [0,1] #one hot encoding\n"
   ]
  },
  {
   "cell_type": "code",
   "execution_count": 46,
   "metadata": {},
   "outputs": [],
   "source": [
    "\n",
    "def create_train_data():\n",
    "    train_data = []\n",
    "    for img in tqdm(os.listdir(TRAIN_DIR)):\n",
    "        print(img)\n",
    "        label = label_img(img)\n",
    "        path = os.path.join(TRAIN_DIR, img)\n",
    "        print(\"Loading image from path:\", path)  # Debugging output to check the path\n",
    "        img = cv2.resize(cv2.imread(path, cv2.IMREAD_GRAYSCALE), (IMG_SIZE, IMG_SIZE))  # Read image in grayscale\n",
    "        train_data.append([np.array(img), np.array(label)])\n",
    "    shuffle(train_data)\n",
    "    np.save('train_data.npy', train_data) #.npy extension = numpy file\n",
    "    return train_data\n"
   ]
  },
  {
   "cell_type": "code",
   "execution_count": 47,
   "metadata": {},
   "outputs": [],
   "source": [
    "\n",
    "def process_test_data():\n",
    "    test_data = []\n",
    "    for img in tqdm(os.listdir(TEST_DIR)):\n",
    "        path = os.path.join(TEST_DIR, img)\n",
    "        img_num = img.split('_')[1] #images are formatted 'OFFWHITE_2', 'YEEZY_56'..\n",
    "        read = cv2.imread(path, cv2.IMREAD_GRAYSCALE)\n",
    "        img = cv2.resize(read, (IMG_SIZE,IMG_SIZE))\n",
    "        \n",
    "        test_data.append([np.array(img), img_num])\n",
    "    shuffle(test_data)\n",
    "    np.save('test_data.npy', test_data)\n",
    "    return test_data\n"
   ]
  },
  {
   "cell_type": "code",
   "execution_count": 48,
   "metadata": {},
   "outputs": [
    {
     "name": "stderr",
     "output_type": "stream",
     "text": [
      "  0%|          | 0/30 [00:00<?, ?it/s]"
     ]
    },
    {
     "name": "stdout",
     "output_type": "stream",
     "text": [
      ".DS_Store\n",
      "Loading image from path: /Users/Lucas_Ying/Desktop/ATCS/Final Project_SneakerIdentifier/Sneaker-Identifier/data/TrainingData/.DS_Store\n"
     ]
    },
    {
     "name": "stderr",
     "output_type": "stream",
     "text": [
      "\n"
     ]
    },
    {
     "ename": "error",
     "evalue": "OpenCV(4.9.0) /Users/xperience/GHA-OpenCV-Python2/_work/opencv-python/opencv-python/opencv/modules/imgproc/src/resize.cpp:4152: error: (-215:Assertion failed) !ssize.empty() in function 'resize'\n",
     "output_type": "error",
     "traceback": [
      "\u001b[0;31m---------------------------------------------------------------------------\u001b[0m",
      "\u001b[0;31merror\u001b[0m                                     Traceback (most recent call last)",
      "\u001b[1;32m/Users/Lucas_Ying/Desktop/ATCS/Final Project_SneakerIdentifier/Sneaker-Identifier/identifier.ipynb Cell 5\u001b[0m line \u001b[0;36m1\n\u001b[0;32m----> <a href='vscode-notebook-cell:/Users/Lucas_Ying/Desktop/ATCS/Final%20Project_SneakerIdentifier/Sneaker-Identifier/identifier.ipynb#W4sZmlsZQ%3D%3D?line=0'>1</a>\u001b[0m train_data \u001b[39m=\u001b[39m create_train_data()\n",
      "\u001b[1;32m/Users/Lucas_Ying/Desktop/ATCS/Final Project_SneakerIdentifier/Sneaker-Identifier/identifier.ipynb Cell 5\u001b[0m line \u001b[0;36m8\n\u001b[1;32m      <a href='vscode-notebook-cell:/Users/Lucas_Ying/Desktop/ATCS/Final%20Project_SneakerIdentifier/Sneaker-Identifier/identifier.ipynb#W4sZmlsZQ%3D%3D?line=5'>6</a>\u001b[0m     path \u001b[39m=\u001b[39m os\u001b[39m.\u001b[39mpath\u001b[39m.\u001b[39mjoin(TRAIN_DIR, img)\n\u001b[1;32m      <a href='vscode-notebook-cell:/Users/Lucas_Ying/Desktop/ATCS/Final%20Project_SneakerIdentifier/Sneaker-Identifier/identifier.ipynb#W4sZmlsZQ%3D%3D?line=6'>7</a>\u001b[0m     \u001b[39mprint\u001b[39m(\u001b[39m\"\u001b[39m\u001b[39mLoading image from path:\u001b[39m\u001b[39m\"\u001b[39m, path)  \u001b[39m# Debugging output to check the path\u001b[39;00m\n\u001b[0;32m----> <a href='vscode-notebook-cell:/Users/Lucas_Ying/Desktop/ATCS/Final%20Project_SneakerIdentifier/Sneaker-Identifier/identifier.ipynb#W4sZmlsZQ%3D%3D?line=7'>8</a>\u001b[0m     img \u001b[39m=\u001b[39m cv2\u001b[39m.\u001b[39;49mresize(cv2\u001b[39m.\u001b[39;49mimread(path, cv2\u001b[39m.\u001b[39;49mIMREAD_GRAYSCALE), (IMG_SIZE, IMG_SIZE))  \u001b[39m# Read image in grayscale\u001b[39;00m\n\u001b[1;32m      <a href='vscode-notebook-cell:/Users/Lucas_Ying/Desktop/ATCS/Final%20Project_SneakerIdentifier/Sneaker-Identifier/identifier.ipynb#W4sZmlsZQ%3D%3D?line=8'>9</a>\u001b[0m     train_data\u001b[39m.\u001b[39mappend([np\u001b[39m.\u001b[39marray(img), np\u001b[39m.\u001b[39marray(label)])\n\u001b[1;32m     <a href='vscode-notebook-cell:/Users/Lucas_Ying/Desktop/ATCS/Final%20Project_SneakerIdentifier/Sneaker-Identifier/identifier.ipynb#W4sZmlsZQ%3D%3D?line=9'>10</a>\u001b[0m shuffle(train_data)\n",
      "\u001b[0;31merror\u001b[0m: OpenCV(4.9.0) /Users/xperience/GHA-OpenCV-Python2/_work/opencv-python/opencv-python/opencv/modules/imgproc/src/resize.cpp:4152: error: (-215:Assertion failed) !ssize.empty() in function 'resize'\n"
     ]
    }
   ],
   "source": [
    "train_data = create_train_data()"
   ]
  },
  {
   "cell_type": "code",
   "execution_count": null,
   "metadata": {},
   "outputs": [
    {
     "ename": "ImportError",
     "evalue": "cannot import name 'is_sequence' from 'tensorflow.python.util.nest' (/Users/Lucas_Ying/Desktop/ATCS/Final Project_SneakerIdentifier/Sneaker-Identifier/.venv/lib/python3.9/site-packages/tensorflow/python/util/nest.py)",
     "output_type": "error",
     "traceback": [
      "\u001b[0;31m---------------------------------------------------------------------------\u001b[0m",
      "\u001b[0;31mImportError\u001b[0m                               Traceback (most recent call last)",
      "\u001b[1;32m/Users/Lucas_Ying/Desktop/ATCS/Final Project_SneakerIdentifier/Sneaker-Identifier/identifier.ipynb Cell 5\u001b[0m line \u001b[0;36m1\n\u001b[0;32m----> <a href='vscode-notebook-cell:/Users/Lucas_Ying/Desktop/ATCS/Final%20Project_SneakerIdentifier/Sneaker-Identifier/identifier.ipynb#W4sZmlsZQ%3D%3D?line=0'>1</a>\u001b[0m \u001b[39mimport\u001b[39;00m \u001b[39mtflearn\u001b[39;00m\n\u001b[1;32m      <a href='vscode-notebook-cell:/Users/Lucas_Ying/Desktop/ATCS/Final%20Project_SneakerIdentifier/Sneaker-Identifier/identifier.ipynb#W4sZmlsZQ%3D%3D?line=1'>2</a>\u001b[0m \u001b[39mfrom\u001b[39;00m \u001b[39mtflearn\u001b[39;00m\u001b[39m.\u001b[39;00m\u001b[39mlayers\u001b[39;00m\u001b[39m.\u001b[39;00m\u001b[39mconv\u001b[39;00m \u001b[39mimport\u001b[39;00m conv_2d, max_pool_2d\n\u001b[1;32m      <a href='vscode-notebook-cell:/Users/Lucas_Ying/Desktop/ATCS/Final%20Project_SneakerIdentifier/Sneaker-Identifier/identifier.ipynb#W4sZmlsZQ%3D%3D?line=2'>3</a>\u001b[0m \u001b[39mfrom\u001b[39;00m \u001b[39mtflearn\u001b[39;00m\u001b[39m.\u001b[39;00m\u001b[39mlayers\u001b[39;00m\u001b[39m.\u001b[39;00m\u001b[39mcore\u001b[39;00m \u001b[39mimport\u001b[39;00m input_data, dropout, fully_connected\n",
      "File \u001b[0;32m~/Desktop/ATCS/Final Project_SneakerIdentifier/Sneaker-Identifier/.venv/lib/python3.9/site-packages/tflearn/__init__.py:25\u001b[0m\n\u001b[1;32m     21\u001b[0m \u001b[39mfrom\u001b[39;00m \u001b[39m.\u001b[39;00m\u001b[39mhelpers\u001b[39;00m\u001b[39m.\u001b[39;00m\u001b[39msummarizer\u001b[39;00m \u001b[39mimport\u001b[39;00m summarize, summarize_activations, \\\n\u001b[1;32m     22\u001b[0m     summarize_gradients, summarize_variables, summarize_all\n\u001b[1;32m     24\u001b[0m \u001b[39m# Predefined ops\u001b[39;00m\n\u001b[0;32m---> 25\u001b[0m \u001b[39mfrom\u001b[39;00m \u001b[39m.\u001b[39;00m\u001b[39mlayers\u001b[39;00m \u001b[39mimport\u001b[39;00m normalization\n\u001b[1;32m     26\u001b[0m \u001b[39mfrom\u001b[39;00m \u001b[39m.\u001b[39;00m \u001b[39mimport\u001b[39;00m metrics\n\u001b[1;32m     27\u001b[0m \u001b[39mfrom\u001b[39;00m \u001b[39m.\u001b[39;00m \u001b[39mimport\u001b[39;00m activations\n",
      "File \u001b[0;32m~/Desktop/ATCS/Final Project_SneakerIdentifier/Sneaker-Identifier/.venv/lib/python3.9/site-packages/tflearn/layers/__init__.py:11\u001b[0m\n\u001b[1;32m      9\u001b[0m \u001b[39mfrom\u001b[39;00m \u001b[39m.\u001b[39;00m\u001b[39mnormalization\u001b[39;00m \u001b[39mimport\u001b[39;00m batch_normalization, local_response_normalization\n\u001b[1;32m     10\u001b[0m \u001b[39mfrom\u001b[39;00m \u001b[39m.\u001b[39;00m\u001b[39mestimator\u001b[39;00m \u001b[39mimport\u001b[39;00m regression\n\u001b[0;32m---> 11\u001b[0m \u001b[39mfrom\u001b[39;00m \u001b[39m.\u001b[39;00m\u001b[39mrecurrent\u001b[39;00m \u001b[39mimport\u001b[39;00m lstm, gru, simple_rnn, bidirectional_rnn, \\\n\u001b[1;32m     12\u001b[0m     BasicRNNCell, BasicLSTMCell, GRUCell\n\u001b[1;32m     13\u001b[0m \u001b[39mfrom\u001b[39;00m \u001b[39m.\u001b[39;00m\u001b[39membedding_ops\u001b[39;00m \u001b[39mimport\u001b[39;00m embedding\n\u001b[1;32m     14\u001b[0m \u001b[39mfrom\u001b[39;00m \u001b[39m.\u001b[39;00m\u001b[39mmerge_ops\u001b[39;00m \u001b[39mimport\u001b[39;00m merge, merge_outputs\n",
      "File \u001b[0;32m~/Desktop/ATCS/Final Project_SneakerIdentifier/Sneaker-Identifier/.venv/lib/python3.9/site-packages/tflearn/layers/recurrent.py:17\u001b[0m\n\u001b[1;32m     14\u001b[0m     \u001b[39mfrom\u001b[39;00m \u001b[39mtensorflow\u001b[39;00m\u001b[39m.\u001b[39;00m\u001b[39mpython\u001b[39;00m\u001b[39m.\u001b[39;00m\u001b[39mops\u001b[39;00m\u001b[39m.\u001b[39;00m\u001b[39mrnn\u001b[39;00m \u001b[39mimport\u001b[39;00m rnn_cell_impl \u001b[39mas\u001b[39;00m _rnn_cell, dynamic_rnn \u001b[39mas\u001b[39;00m _drnn\n\u001b[1;32m     15\u001b[0m     \u001b[39mfrom\u001b[39;00m \u001b[39mtensorflow\u001b[39;00m\u001b[39m.\u001b[39;00m\u001b[39mcontrib\u001b[39;00m\u001b[39m.\u001b[39;00m\u001b[39mrnn\u001b[39;00m\u001b[39m.\u001b[39;00m\u001b[39mpython\u001b[39;00m\u001b[39m.\u001b[39;00m\u001b[39mops\u001b[39;00m \u001b[39mimport\u001b[39;00m core_rnn_cell\n\u001b[0;32m---> 17\u001b[0m \u001b[39mfrom\u001b[39;00m \u001b[39mtensorflow\u001b[39;00m\u001b[39m.\u001b[39;00m\u001b[39mpython\u001b[39;00m\u001b[39m.\u001b[39;00m\u001b[39mutil\u001b[39;00m\u001b[39m.\u001b[39;00m\u001b[39mnest\u001b[39;00m \u001b[39mimport\u001b[39;00m is_sequence\n\u001b[1;32m     19\u001b[0m \u001b[39mfrom\u001b[39;00m \u001b[39m.\u001b[39;00m\u001b[39m.\u001b[39;00m \u001b[39mimport\u001b[39;00m config\n\u001b[1;32m     20\u001b[0m \u001b[39mfrom\u001b[39;00m \u001b[39m.\u001b[39;00m\u001b[39m.\u001b[39;00m \u001b[39mimport\u001b[39;00m utils\n",
      "\u001b[0;31mImportError\u001b[0m: cannot import name 'is_sequence' from 'tensorflow.python.util.nest' (/Users/Lucas_Ying/Desktop/ATCS/Final Project_SneakerIdentifier/Sneaker-Identifier/.venv/lib/python3.9/site-packages/tensorflow/python/util/nest.py)"
     ]
    }
   ],
   "source": [
    "import tflearn\n",
    "from tflearn.layers.conv import conv_2d, max_pool_2d\n",
    "from tflearn.layers.core import input_data, dropout, fully_connected\n",
    "from tflearn.layers.estimator import regression\n",
    "\n",
    "import tensorflow as tf\n",
    "tf.reset_default_graph()\n",
    "\n",
    "convnet = input_data(shape=[None, IMG_SIZE, IMG_SIZE, 1], name = 'input')\n",
    "convnet = conv_2d(convnet, 32, 5, activation = 'relu')\n",
    "convnet = max_pool_2d(convnet, 5)\n",
    "convnet = conv_2d(convnet, 64, 5, activation = 'relu')\n",
    "convnet = max_pool_2d(convnet, 5)\n",
    "convnet = conv_2d(convnet, 32, 5, activation = 'relu')\n",
    "convnet = max_pool_2d(convnet, 5)\n",
    "convnet = conv_2d(convnet, 64, 5, activation = 'relu')\n",
    "convnet = max_pool_2d(convnet, 5)\n",
    "convnet = conv_2d(convnet, 32, 5, activation = 'relu')\n",
    "convnet = max_pool_2d(convnet, 5)\n",
    "convnet = conv_2d(convnet, 64, 5, activation = 'relu')\n",
    "convnet = max_pool_2d(convnet, 5)\n",
    "convnet = fully_connected(convnet, 1024, activation = 'relu')\n",
    "convnet = dropout(convnet, 0.8)\n",
    "convnet = fully_connected(convnet, 2, activation = 'softmax')\n",
    "convnet = regression(convnet, optimizer = 'adam', learning_rate = LR, loss = 'categorical_crossentropy', name = 'targets')\n",
    "model = tflearn.DNN(convnet, tensorboard_verbose=3)"
   ]
  },
  {
   "cell_type": "code",
   "execution_count": null,
   "metadata": {},
   "outputs": [
    {
     "ename": "NameError",
     "evalue": "name 'train_data' is not defined",
     "output_type": "error",
     "traceback": [
      "\u001b[0;31m---------------------------------------------------------------------------\u001b[0m",
      "\u001b[0;31mNameError\u001b[0m                                 Traceback (most recent call last)",
      "\u001b[1;32m/Users/Lucas_Ying/Desktop/ATCS/Final Project_SneakerIdentifier/Sneaker-Identifier/identifier.ipynb Cell 6\u001b[0m line \u001b[0;36m8\n\u001b[1;32m      <a href='vscode-notebook-cell:/Users/Lucas_Ying/Desktop/ATCS/Final%20Project_SneakerIdentifier/Sneaker-Identifier/identifier.ipynb#W5sZmlsZQ%3D%3D?line=0'>1</a>\u001b[0m \u001b[39m# DATA SPLITTING\u001b[39;00m\n\u001b[1;32m      <a href='vscode-notebook-cell:/Users/Lucas_Ying/Desktop/ATCS/Final%20Project_SneakerIdentifier/Sneaker-Identifier/identifier.ipynb#W5sZmlsZQ%3D%3D?line=1'>2</a>\u001b[0m \u001b[39m# Data splitting is typically done 80% train and 20% test\u001b[39;00m\n\u001b[1;32m      <a href='vscode-notebook-cell:/Users/Lucas_Ying/Desktop/ATCS/Final%20Project_SneakerIdentifier/Sneaker-Identifier/identifier.ipynb#W5sZmlsZQ%3D%3D?line=2'>3</a>\u001b[0m \u001b[39m# of the 80% of our data in the train set\u001b[39;00m\n\u001b[1;32m      <a href='vscode-notebook-cell:/Users/Lucas_Ying/Desktop/ATCS/Final%20Project_SneakerIdentifier/Sneaker-Identifier/identifier.ipynb#W5sZmlsZQ%3D%3D?line=3'>4</a>\u001b[0m \u001b[39m# we set aside a small percentage as a validation set\u001b[39;00m\n\u001b[1;32m      <a href='vscode-notebook-cell:/Users/Lucas_Ying/Desktop/ATCS/Final%20Project_SneakerIdentifier/Sneaker-Identifier/identifier.ipynb#W5sZmlsZQ%3D%3D?line=4'>5</a>\u001b[0m \u001b[39m# this is used to do parameter tuning before evaluating\u001b[39;00m\n\u001b[1;32m      <a href='vscode-notebook-cell:/Users/Lucas_Ying/Desktop/ATCS/Final%20Project_SneakerIdentifier/Sneaker-Identifier/identifier.ipynb#W5sZmlsZQ%3D%3D?line=5'>6</a>\u001b[0m \u001b[39m# on our test set\u001b[39;00m\n\u001b[0;32m----> <a href='vscode-notebook-cell:/Users/Lucas_Ying/Desktop/ATCS/Final%20Project_SneakerIdentifier/Sneaker-Identifier/identifier.ipynb#W5sZmlsZQ%3D%3D?line=7'>8</a>\u001b[0m train \u001b[39m=\u001b[39m train_data[\u001b[39m-\u001b[39m\u001b[39m90\u001b[39m:] \u001b[39m#Train Set\u001b[39;00m\n\u001b[1;32m      <a href='vscode-notebook-cell:/Users/Lucas_Ying/Desktop/ATCS/Final%20Project_SneakerIdentifier/Sneaker-Identifier/identifier.ipynb#W5sZmlsZQ%3D%3D?line=8'>9</a>\u001b[0m test \u001b[39m=\u001b[39m train_data[:\u001b[39m-\u001b[39m\u001b[39m90\u001b[39m] \u001b[39m#Validation Set\u001b[39;00m\n",
      "\u001b[0;31mNameError\u001b[0m: name 'train_data' is not defined"
     ]
    }
   ],
   "source": [
    "# DATA SPLITTING\n",
    "# Data splitting is typically done 80% train and 20% test\n",
    "# of the 80% of our data in the train set\n",
    "# we set aside a small percentage as a validation set\n",
    "# this is used to do parameter tuning before evaluating\n",
    "# on our test set\n",
    "\n",
    "train = train_data[-90:] #Train Set\n",
    "test = train_data[:-90] #Validation Set"
   ]
  },
  {
   "cell_type": "code",
   "execution_count": null,
   "metadata": {},
   "outputs": [],
   "source": [
    "X = np.array([i[0] for i in train]).reshape(-1, IMG_SIZE, IMG_SIZE, 1)\n",
    "Y = [i[1] for i in train]\n",
    "\n",
    "test_x = np.array([i[0] for i in test]).reshape(-1, IMG_SIZE, IMG_SIZE, 1)\n",
    "test_y = [i[1] for i in test]"
   ]
  },
  {
   "cell_type": "code",
   "execution_count": null,
   "metadata": {},
   "outputs": [],
   "source": [
    "model.fit({'input': X}, {'targets': Y}, n_epoch=100, validation_set=({'input': test_x}, {'targets': test_y}), snapshot_step=50, show_metric=True, run_id='OFFWHITE_YEEZY')\n"
   ]
  },
  {
   "cell_type": "code",
   "execution_count": null,
   "metadata": {},
   "outputs": [],
   "source": [
    "test_data = process_test_data()\n",
    "fig = plt.figure()\n",
    "\n",
    "for num, data in enumerate(test_data[:10]):\n",
    "    img_num = data[1]\n",
    "    img_data = data[0]\n",
    "    \n",
    "    y = fig.add_subplot(3,4,num+1)\n",
    "    orig = img_data\n",
    "    data = img_data.reshape(IMG_SIZE, IMG_SIZE, 1)\n",
    "    model_out = model.predict([data])[0]\n",
    "    print(model_out)\n",
    "    if np.argmax(model_out) == 1:\n",
    "        str_label = 'YEEZY'\n",
    "    else:\n",
    "        str_label = 'OFFWHITE'\n",
    "    \n",
    "    y.imshow(orig, cmap = 'gray')\n",
    "    plt.title(str_label)\n",
    "    y.axes.get_xaxis().set_visible(False)\n",
    "    y.axes.get_yaxis().set_visible(False)\n",
    "plt.show()"
   ]
  },
  {
   "cell_type": "code",
   "execution_count": 55,
   "metadata": {},
   "outputs": [],
   "source": [
    "img = cv2.imread(\"data/TestingData/watermelon.jpeg\")\n",
    "cv2.imshow(\"Shoe\", img)\n",
    "# cv2.resize(img, (100, 100))"
   ]
  }
 ],
 "metadata": {
  "kernelspec": {
   "display_name": ".venv",
   "language": "python",
   "name": "python3"
  },
  "language_info": {
   "codemirror_mode": {
    "name": "ipython",
    "version": 3
   },
   "file_extension": ".py",
   "mimetype": "text/x-python",
   "name": "python",
   "nbconvert_exporter": "python",
   "pygments_lexer": "ipython3",
   "version": "3.9.6"
  },
  "orig_nbformat": 4
 },
 "nbformat": 4,
 "nbformat_minor": 2
}
